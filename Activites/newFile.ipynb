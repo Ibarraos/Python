{
 "cells": [
  {
   "cell_type": "code",
   "execution_count": 1,
   "metadata": {},
   "outputs": [
    {
     "name": "stdout",
     "output_type": "stream",
     "text": [
      "Hello World!\n"
     ]
    }
   ],
   "source": [
    "## This is a comment line \n",
    "##(This line will be ignored but will help talking about code)\n",
    "\n",
    "## can use \"\" or ''\n",
    "print('Hello World!')\n",
    "\n",
    "## To run code can use gitbash using command 'python 'file''\n",
    "##"
   ]
  },
  {
   "cell_type": "code",
   "execution_count": 3,
   "metadata": {},
   "outputs": [
    {
     "ename": "NameError",
     "evalue": "name 'pring' is not defined",
     "output_type": "error",
     "traceback": [
      "\u001b[1;31m---------------------------------------------------------------------------\u001b[0m",
      "\u001b[1;31mNameError\u001b[0m                                 Traceback (most recent call last)",
      "Cell \u001b[1;32mIn [3], line 2\u001b[0m\n\u001b[0;32m      1\u001b[0m funFact \u001b[39m=\u001b[39m (\u001b[39minput\u001b[39m(\u001b[39m'\u001b[39m\u001b[39mWhat is your age?\u001b[39m\u001b[39m'\u001b[39m))\n\u001b[1;32m----> 2\u001b[0m pring(funFact)\n",
      "\u001b[1;31mNameError\u001b[0m: name 'pring' is not defined"
     ]
    }
   ],
   "source": [
    "funFact = (input('What is your age?'))\n",
    "print(funFact)"
   ]
  }
 ],
 "metadata": {
  "kernelspec": {
   "display_name": "Python 3.10.7 64-bit",
   "language": "python",
   "name": "python3"
  },
  "language_info": {
   "codemirror_mode": {
    "name": "ipython",
    "version": 3
   },
   "file_extension": ".py",
   "mimetype": "text/x-python",
   "name": "python",
   "nbconvert_exporter": "python",
   "pygments_lexer": "ipython3",
   "version": "3.10.7"
  },
  "orig_nbformat": 4,
  "vscode": {
   "interpreter": {
    "hash": "39626bd1ba697260b20d76c62386ffe16d5e9c98e7fc38f061a9a9b6c817525c"
   }
  }
 },
 "nbformat": 4,
 "nbformat_minor": 2
}
